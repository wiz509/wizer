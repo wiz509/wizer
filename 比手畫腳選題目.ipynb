{
 "cells": [
  {
   "cell_type": "code",
   "execution_count": 6,
   "metadata": {},
   "outputs": [],
   "source": [
    "%matplotlib inline\n",
    "import numpy as np\n",
    "import matplotlib.pyplot as plt\n",
    "import pandas as pd\n",
    "import random\n",
    "from ipywidgets import interact_manual"
   ]
  },
  {
   "cell_type": "code",
   "execution_count": 12,
   "metadata": {},
   "outputs": [],
   "source": [
    "def wordchoice():\n",
    "    words=['蘇貞昌','牛奶','母老虎','馬英九','美猴王','外星人','賽車','感冒','拉肚子','空姐','飛行員','水龍頭','鬥牛','相撲','拔河','抬槓','騎馬打仗','口試'\n",
    "    ,'法式接吻','理髮','馬殺雞','比手畫腳','導盲犬','打網球','協力車','抓小偷','躲迷藏','接力賽跑','兔子舞','探戈','疊羅漢','黑白猜','兩人三腳','老漢推車','斷背山','你丟我撿'\n",
    "    ,'啦啦隊','馬戲表演','跳火圈','橄欖球','殺價','超車','划拳','偷窺','潑冷水','碰釘子','吃閉門羹','婚禮','人體彩繪','阿魯巴','仰臥起坐','蹺蹺板','龜兔賽跑','合唱團',\n",
    "    '英雄救美','落井下石','波浪舞','袋鼠','鐵達尼號','雙胞胎','腳底按摩','人工呼吸','出人頭地','圓頂方踵','斬草除根','過眼雲煙','哄堂大笑','放下屠刀立地成佛','昏天黑地',\n",
    "    '飲水思源','胸懷千里','白馬王子','垂涎三尺','百折不撓','擎天憾地','海闊天空','愚公移山','才高八斗','雞飛狗跳','嘔心絞腦','萬紫千紅','張牙舞爪','一暴十寒','手不釋卷',\n",
    "    '眼波如水','圓通大師','隨風轉舵','望洋興嘆','無懈可擊','花枝招展','鳶飛魚躍','一絲不苟','搔首弄姿','羊入虎口','黑白分明'\n",
    "    ,'三頭六臂','雨過天青','三緘其口','半斤八兩','畫餅充飢','怒髮衝冠','鳥語花香','一石二鳥','環肥燕瘦','上下其手','一波三折','有口難言','身懷六甲','十全十美呼風喚雨']\n",
    "    b=108\n",
    "    a=random.randint(0,b)\n",
    "    print(words[a])\n",
    "    del words[a]\n",
    "    b=b-1\n",
    "    if b == 0:\n",
    "        print(\"沒題目了\")"
   ]
  },
  {
   "cell_type": "code",
   "execution_count": 13,
   "metadata": {},
   "outputs": [
    {
     "data": {
      "application/vnd.jupyter.widget-view+json": {
       "model_id": "01e6487cfe294076b88290a61d160666",
       "version_major": 2,
       "version_minor": 0
      },
      "text/plain": [
       "interactive(children=(Button(description='Run Interact', style=ButtonStyle()), Output()), _dom_classes=('widge…"
      ]
     },
     "metadata": {},
     "output_type": "display_data"
    }
   ],
   "source": [
    "interact_manual(wordchoice);"
   ]
  },
  {
   "cell_type": "code",
   "execution_count": null,
   "metadata": {},
   "outputs": [],
   "source": []
  }
 ],
 "metadata": {
  "kernelspec": {
   "display_name": "Python 3",
   "language": "python",
   "name": "python3"
  },
  "language_info": {
   "codemirror_mode": {
    "name": "ipython",
    "version": 3
   },
   "file_extension": ".py",
   "mimetype": "text/x-python",
   "name": "python",
   "nbconvert_exporter": "python",
   "pygments_lexer": "ipython3",
   "version": "3.7.3"
  }
 },
 "nbformat": 4,
 "nbformat_minor": 2
}
