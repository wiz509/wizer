{
 "cells": [
  {
   "cell_type": "code",
   "execution_count": 2,
   "metadata": {},
   "outputs": [],
   "source": [
    "%matplotlib inline\n",
    "import numpy as np\n",
    "import pandas as pd\n",
    "import matplotlib.pyplot as plt\n",
    "from ipywidgets import interact"
   ]
  },
  {
   "cell_type": "code",
   "execution_count": 7,
   "metadata": {},
   "outputs": [],
   "source": [
    "def walk(n=0):\n",
    "    print(\" ___\"+' '*5+'__'+' '*10+'___'+' '*5+'__')\n",
    "    print('|'+' '*3+'|'+' '*3+'|'+' '*2+'|'+' '*8+\"|\"+' '*3+'|'+' '*3+'|'+' '*2+'|')\n",
    "    print(\" ￣￣\"+' '*4+'￣￣|￣￣|'+' '*3+'￣￣'+' '*4+'￣￣|￣￣|')\n",
    "    print(\" \"*13+'￣￣'+' '*16+'￣￣')\n",
    "    print(\" \"*(3+n)+\"__\")\n",
    "    print(' '*(2+n)+'|'+' '*2+'|')\n",
    "    print(\" \"*(3+n)+\"T\")\n",
    "    print(' '*(2+n)+'-|-')\n",
    "    print(\" \"*(3+n)+\"TT\")\n",
    "    print(\"￣￣￣￣￣￣￣￣￣￣￣￣￣￣￣￣￣￣￣￣￣￣￣￣￣￣\")"
   ]
  },
  {
   "cell_type": "code",
   "execution_count": 8,
   "metadata": {},
   "outputs": [
    {
     "data": {
      "application/vnd.jupyter.widget-view+json": {
       "model_id": "ef198fec01ff45e795d672d71024d2d7",
       "version_major": 2,
       "version_minor": 0
      },
      "text/plain": [
       "interactive(children=(IntSlider(value=0, description='n', max=40), Output()), _dom_classes=('widget-interact',…"
      ]
     },
     "metadata": {},
     "output_type": "display_data"
    }
   ],
   "source": [
    "interact(walk,n=(0,40));"
   ]
  },
  {
   "cell_type": "code",
   "execution_count": null,
   "metadata": {},
   "outputs": [],
   "source": []
  }
 ],
 "metadata": {
  "kernelspec": {
   "display_name": "Python 3",
   "language": "python",
   "name": "python3"
  },
  "language_info": {
   "codemirror_mode": {
    "name": "ipython",
    "version": 3
   },
   "file_extension": ".py",
   "mimetype": "text/x-python",
   "name": "python",
   "nbconvert_exporter": "python",
   "pygments_lexer": "ipython3",
   "version": "3.7.3"
  }
 },
 "nbformat": 4,
 "nbformat_minor": 2
}
