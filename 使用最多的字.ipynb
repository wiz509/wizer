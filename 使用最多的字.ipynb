{
 "cells": [
  {
   "cell_type": "code",
   "execution_count": 1,
   "metadata": {},
   "outputs": [],
   "source": [
    "%matplotlib inline\n",
    "import numpy as np\n",
    "import matplotlib.pyplot as plt\n",
    "import pandas as pd"
   ]
  },
  {
   "cell_type": "code",
   "execution_count": 60,
   "metadata": {},
   "outputs": [
    {
     "name": "stdout",
     "output_type": "stream",
     "text": [
      "記得回傳你的作業時, 一個程式回傳一次, 解說一下、甚至貼圖讓人看看你偉大的作品。  我們每週會選出五個程式, 不一定是技巧高, 而是真的有趣、好玩、有創意。\n",
      "最常用的字 一\n",
      "使用次數 4\n"
     ]
    }
   ],
   "source": [
    "words=input(\"\")\n",
    "words=words.replace(',','')\n",
    "words=words.replace(' ','')\n",
    "words=words.replace('.','')\n",
    "words=words.replace('。','')\n",
    "words=words.replace('、','')\n",
    "words=words.replace('，','')\n",
    "list(words)\n",
    "a=len(words)\n",
    "times=[]\n",
    "for i in range(0,a):\n",
    "    times.append(words.count(words[i]))\n",
    "h=times.index(max(times))\n",
    "print(\"最常用的字\",words[h])\n",
    "print(\"使用次數\",times[h])"
   ]
  },
  {
   "cell_type": "code",
   "execution_count": null,
   "metadata": {},
   "outputs": [],
   "source": []
  }
 ],
 "metadata": {
  "kernelspec": {
   "display_name": "Python 3",
   "language": "python",
   "name": "python3"
  },
  "language_info": {
   "codemirror_mode": {
    "name": "ipython",
    "version": 3
   },
   "file_extension": ".py",
   "mimetype": "text/x-python",
   "name": "python",
   "nbconvert_exporter": "python",
   "pygments_lexer": "ipython3",
   "version": "3.7.3"
  }
 },
 "nbformat": 4,
 "nbformat_minor": 2
}
