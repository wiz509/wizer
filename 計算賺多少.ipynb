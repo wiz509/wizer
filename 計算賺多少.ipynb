{
 "cells": [
  {
   "cell_type": "code",
   "execution_count": 1,
   "metadata": {},
   "outputs": [],
   "source": [
    "%matplotlib inline\n",
    "import numpy as np\n",
    "import matplotlib.pyplot as plt\n",
    "import pandas as pd"
   ]
  },
  {
   "cell_type": "code",
   "execution_count": 24,
   "metadata": {},
   "outputs": [
    {
     "name": "stdout",
     "output_type": "stream",
     "text": [
      ">>你有幾項商品\n",
      "3\n",
      "商品名稱:雞肉\n",
      "商品售出幾個:\n",
      "30\n",
      "商品售價:\n",
      "300\n",
      "商品成本:\n",
      "150\n",
      "商品名稱:牛肉\n",
      "商品售出幾個:\n",
      "40\n",
      "商品售價:\n",
      "500\n",
      "商品成本:\n",
      "250\n",
      "商品名稱:羊肉\n",
      "商品售出幾個:\n",
      "20\n",
      "商品售價:\n",
      "350\n",
      "商品成本:\n",
      "150\n",
      "雞肉賺了4500元\n",
      "牛肉賺了10000元\n",
      "羊肉賺了4000元\n"
     ]
    }
   ],
   "source": [
    "things=[]\n",
    "thingsold=[]\n",
    "prize=[]\n",
    "cost=[]\n",
    "real=[]\n",
    "thing=input(\">>你有幾項商品\\n\")\n",
    "for i in range(0,int(thing)):\n",
    "    things.append(0)\n",
    "    thingsold.append(0)\n",
    "    prize.append(0)\n",
    "    cost.append(0)\n",
    "    real.append(0)\n",
    "for i in range(0,int(thing)):\n",
    "    things[i]=input(\"商品名稱:\")\n",
    "    thingsold[i]=input(\"商品售出幾個:\\n\")\n",
    "    prize[i]=input(\"商品售價:\\n\")\n",
    "    cost[i]=input(\"商品成本:\\n\")\n",
    "    a=int(prize[i])-int(cost[i])\n",
    "    b=int(thingsold[i])*a\n",
    "    real[i]=b\n",
    "for i in range(0,int(thing)):\n",
    "    print((\"%s賺了%d元\")%(things[i],real[i]))"
   ]
  },
  {
   "cell_type": "code",
   "execution_count": 25,
   "metadata": {},
   "outputs": [
    {
     "name": "stdout",
     "output_type": "stream",
     "text": [
      "The following commands were written to file `realmoney.py`:\n",
      "get_ipython().run_line_magic('matplotlib', 'inline')\n",
      "import numpy as np\n",
      "import matplotlib.pyplot as plt\n",
      "import pandas as pd\n",
      "things=[]\n",
      "thingsold=[]\n",
      "prize=[]\n",
      "cost=[]\n",
      "real=[]\n",
      "thing=input(\">>你有幾項商品\\n\")\n",
      "for i in range(0,int(thing)):\n",
      "    things.append(0)\n",
      "    thingsold.append(0)\n",
      "    prize.append(0)\n",
      "    cost.append(0)\n",
      "    real.append(0)\n",
      "for i in range(0,int(thing)):\n",
      "    things[i]=input(\"商品名稱:\")\n",
      "    thingsold[i]=input(\"商品售出幾個:\\n\")\n",
      "    prize[i]=input(\"商品售價:\\n\")\n",
      "    cost[i]=input(\"商品成本:\\n\")\n",
      "    a=int(prize[i])-int(cost[i])\n",
      "    b=int(thingsold[i])*a\n",
      "    real[i]=b\n",
      "for i in range(0,int(thing)):\n",
      "    print((\"%s賺了%d元\")%(things[i],real[i]))\n"
     ]
    }
   ],
   "source": [
    "%save \"realmoney.py\" 1 24"
   ]
  },
  {
   "cell_type": "code",
   "execution_count": null,
   "metadata": {},
   "outputs": [],
   "source": []
  }
 ],
 "metadata": {
  "kernelspec": {
   "display_name": "Python 3",
   "language": "python",
   "name": "python3"
  },
  "language_info": {
   "codemirror_mode": {
    "name": "ipython",
    "version": 3
   },
   "file_extension": ".py",
   "mimetype": "text/x-python",
   "name": "python",
   "nbconvert_exporter": "python",
   "pygments_lexer": "ipython3",
   "version": "3.7.3"
  }
 },
 "nbformat": 4,
 "nbformat_minor": 2
}
