{
 "cells": [
  {
   "cell_type": "code",
   "execution_count": 1,
   "metadata": {},
   "outputs": [
    {
     "name": "stdout",
     "output_type": "stream",
     "text": [
      "Populating the interactive namespace from numpy and matplotlib\n"
     ]
    }
   ],
   "source": [
    "%matplotlib inline\n",
    "%pylab inline\n",
    "import numpy as np\n",
    "import matplotlib.pyplot as plt\n",
    "import pandas as pd\n",
    "    "
   ]
  },
  {
   "cell_type": "code",
   "execution_count": 2,
   "metadata": {},
   "outputs": [
    {
     "name": "stdout",
     "output_type": "stream",
     "text": [
      "我是笑話機器人\n",
      "你要聽笑話嗎?\n",
      ">>0\n",
      "為什麼模範生容易被綁架?  因為他一副好綁樣.... 哈哈哈哈\n",
      "*還要嗎?\n",
      ">>0\n",
      "  客人吃完東西   服務生問：那我收囉？   客人：好    然後服務生就開始跳舞了 哈哈哈哈 \n",
      "*還要嗎?\n",
      ">>00\n",
      "為什麼放連假的時候不能去工作？     因為會變成連假勞工      哈哈哈哈          \n",
      "*還要嗎?\n",
      ">>0\n",
      "  大樹跟小樹差在哪裡             插在土裡       哈哈哈哈          \n",
      "*還要嗎?\n",
      ">>0\n",
      "有一天螃蟹在沙灘上，走著走著踩到海星，海星罵：你瞎子嗎 走路不看路啊！螃蟹回：不是 我是螃蟹 哈哈\n",
      "*還要嗎?\n",
      ">>0\n",
      "沒笑話了 掰掰\n"
     ]
    }
   ],
   "source": [
    "x=\"為什麼模範生容易被綁架?  因為他一副好綁樣.... 哈哈哈哈   客人吃完東西   服務生問：那我收囉？   客人：好    然後服務生就開始跳舞了 哈哈哈哈  為什麼放連假的時候不能去工作？     因為會變成連假勞工      哈哈哈哈             大樹跟小樹差在哪裡             插在土裡       哈哈哈哈           有一天螃蟹在沙灘上，走著走著踩到海星，海星罵：你瞎子嗎 走路不看路啊！螃蟹回：不是 我是螃蟹 哈哈哈ㄏ阿\"\n",
    "h = 0\n",
    "g = 31\n",
    "print (\"我是笑話機器人\")\n",
    "print(\"你要聽笑話嗎?\")\n",
    "a=input(\">>\")\n",
    "while a !=\" \":\n",
    "    if  \"不要\" in a :\n",
    "        print(\"掰掰\")\n",
    "        break\n",
    "    elif h>230 :\n",
    "        print(\"沒笑話了 掰掰\")\n",
    "        break\n",
    "    else :\n",
    "        print(x[h:g])\n",
    "        h=g+1\n",
    "        g=g+50\n",
    "        print(\"*還要嗎?\")\n",
    "        a=input(\">>\")\n",
    "        \n"
   ]
  },
  {
   "cell_type": "code",
   "execution_count": 3,
   "metadata": {},
   "outputs": [
    {
     "name": "stdout",
     "output_type": "stream",
     "text": [
      "我是拍拍機器人，結束請說掰掰\n",
      ">>掰掰\n",
      "掰掰\n"
     ]
    }
   ],
   "source": [
    "print (\"我是拍拍機器人，結束請說掰掰\")\n",
    "a=input(\">>\")\n",
    "while a !=\" \":\n",
    "    if  \"掰掰\" in a :\n",
    "        print(\"掰掰\")\n",
    "        break\n",
    "    else :\n",
    "        print(\"給你拍拍\")\n",
    "        a=input(\">>\")\n",
    "        "
   ]
  },
  {
   "cell_type": "code",
   "execution_count": 4,
   "metadata": {},
   "outputs": [],
   "source": [
    "from ipywidgets import interact"
   ]
  },
  {
   "cell_type": "code",
   "execution_count": 5,
   "metadata": {},
   "outputs": [],
   "source": [
    "def move (n=1):\n",
    "    int (n)\n",
    "    print(\"8\"+\"二\"*n+\"3\")\n",
    "    "
   ]
  },
  {
   "cell_type": "code",
   "execution_count": 6,
   "metadata": {},
   "outputs": [
    {
     "data": {
      "application/vnd.jupyter.widget-view+json": {
       "model_id": "2954ec420680484bace86734c09a8f73",
       "version_major": 2,
       "version_minor": 0
      },
      "text/plain": [
       "interactive(children=(IntSlider(value=1, description='n', max=30, min=1), Output()), _dom_classes=('widget-int…"
      ]
     },
     "metadata": {},
     "output_type": "display_data"
    },
    {
     "data": {
      "text/plain": [
       "<function __main__.move(n=1)>"
      ]
     },
     "execution_count": 6,
     "metadata": {},
     "output_type": "execute_result"
    }
   ],
   "source": [
    "interact(move,n=(1,30))"
   ]
  },
  {
   "cell_type": "code",
   "execution_count": 7,
   "metadata": {},
   "outputs": [
    {
     "name": "stdout",
     "output_type": "stream",
     "text": [
      "8二3\n"
     ]
    }
   ],
   "source": [
    "move()"
   ]
  },
  {
   "cell_type": "code",
   "execution_count": 8,
   "metadata": {},
   "outputs": [],
   "source": [
    "import random\n"
   ]
  },
  {
   "cell_type": "code",
   "execution_count": 9,
   "metadata": {},
   "outputs": [
    {
     "data": {
      "text/plain": [
       "31"
      ]
     },
     "execution_count": 9,
     "metadata": {},
     "output_type": "execute_result"
    }
   ],
   "source": [
    "random.randint(0,99)"
   ]
  },
  {
   "cell_type": "code",
   "execution_count": 39,
   "metadata": {},
   "outputs": [
    {
     "ename": "SyntaxError",
     "evalue": "invalid syntax (<ipython-input-39-cd28a3dd05bd>, line 1)",
     "output_type": "error",
     "traceback": [
      "\u001b[1;36m  File \u001b[1;32m\"<ipython-input-39-cd28a3dd05bd>\"\u001b[1;36m, line \u001b[1;32m1\u001b[0m\n\u001b[1;33m    answer[]=random.randint(0,10,4)\u001b[0m\n\u001b[1;37m           ^\u001b[0m\n\u001b[1;31mSyntaxError\u001b[0m\u001b[1;31m:\u001b[0m invalid syntax\n"
     ]
    }
   ],
   "source": [
    "answer[]=random.randint(0,10,4)"
   ]
  },
  {
   "cell_type": "code",
   "execution_count": 28,
   "metadata": {},
   "outputs": [],
   "source": [
    "an=answer"
   ]
  },
  {
   "cell_type": "code",
   "execution_count": 30,
   "metadata": {},
   "outputs": [
    {
     "data": {
      "text/plain": [
       "46"
      ]
     },
     "execution_count": 30,
     "metadata": {},
     "output_type": "execute_result"
    }
   ],
   "source": [
    "an"
   ]
  },
  {
   "cell_type": "code",
   "execution_count": 2,
   "metadata": {},
   "outputs": [],
   "source": [
    "import random"
   ]
  },
  {
   "cell_type": "code",
   "execution_count": 38,
   "metadata": {},
   "outputs": [
    {
     "name": "stdout",
     "output_type": "stream",
     "text": [
      "1~100猜一個數字\n",
      "50\n",
      "50 ~ 100\n",
      "60\n",
      "60 ~ 100\n",
      "88\n",
      "60 ~ 88\n",
      "56\n",
      "56 ~ 88\n",
      "80\n",
      "56 ~ 80\n",
      "70\n",
      "70 ~ 80\n",
      "78\n",
      "70 ~ 78\n",
      "75\n",
      "答對了\n"
     ]
    }
   ],
   "source": [
    "answer=random.randint(0,99)\n",
    "an=answer\n",
    "x=1\n",
    "y=100\n",
    "print(\"1~100猜一個數字\")\n",
    "while g!=an :\n",
    "    g=input()\n",
    "    if an > int(g):\n",
    "        print(g,\"~\",y)\n",
    "        x=g\n",
    "    elif int(g) > an:\n",
    "        print(x,\"~\",g)\n",
    "        y=g\n",
    "    else:\n",
    "        break\n",
    "print(\"答對了\")\n",
    "        "
   ]
  },
  {
   "cell_type": "code",
   "execution_count": 11,
   "metadata": {},
   "outputs": [
    {
     "name": "stdout",
     "output_type": "stream",
     "text": [
      "比:10\n",
      "喊:20\n",
      "電腦比: 5\n",
      "比:10\n",
      "電腦比: 0\n",
      "電腦喊: 5\n",
      "比:10\n",
      "喊:20\n",
      "電腦比: 10\n",
      "你贏了\n"
     ]
    }
   ],
   "source": [
    "sh=list(range(0,21,5))\n",
    "an=list(range(0,11,5))\n",
    "me=0\n",
    "you=0\n",
    "while me!=1 and you!=1:\n",
    "    ham=random.randint(0,2)\n",
    "    x=input(\"比:\")\n",
    "    y=input(\"喊:\")\n",
    "    print(\"電腦比:\",an[int(ham)])\n",
    "    z=an[int(ham)]+int(x)\n",
    "    if int(y)==int(z): \n",
    "        print(\"你贏了\")\n",
    "        break\n",
    "    else :\n",
    "        x=input(\"比:\")\n",
    "        ham=random.randint(0,2)\n",
    "        bur=random.randint(0,4)\n",
    "        print(\"電腦比:\",an[int(ham)])\n",
    "        print(\"電腦喊:\",sh[int(bur)])  \n",
    "        z=an[int(ham)]+int(x)\n",
    "        if sh[int(bur)]==z:\n",
    "            print(\"你輸了\")\n",
    "            break\n"
   ]
  },
  {
   "cell_type": "code",
   "execution_count": null,
   "metadata": {},
   "outputs": [],
   "source": [
    "\n",
    "\n",
    "\n",
    "\n",
    "\n",
    "\n",
    "\n",
    "\n",
    "\n",
    "\n"
   ]
  },
  {
   "cell_type": "code",
   "execution_count": null,
   "metadata": {},
   "outputs": [],
   "source": []
  }
 ],
 "metadata": {
  "kernelspec": {
   "display_name": "Python 3",
   "language": "python",
   "name": "python3"
  },
  "language_info": {
   "codemirror_mode": {
    "name": "ipython",
    "version": 3
   },
   "file_extension": ".py",
   "mimetype": "text/x-python",
   "name": "python",
   "nbconvert_exporter": "python",
   "pygments_lexer": "ipython3",
   "version": "3.7.3"
  }
 },
 "nbformat": 4,
 "nbformat_minor": 2
}
